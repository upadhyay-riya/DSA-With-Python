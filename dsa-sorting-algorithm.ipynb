{
 "cells": [
  {
   "cell_type": "markdown",
   "metadata": {},
   "source": [
    "### **1. Sorting Algorithms:**\n",
    "- **Bubble Sort**\n",
    "- **Selection Sort**\n",
    "- **Insertion Sort**\n",
    "- **Merge Sort**\n",
    "- **Quick Sort**\n",
    "- **Heap Sort**\n",
    "- **Counting Sort**\n",
    "- **Radix Sort**\n",
    "- **Bucket Sort**"
   ]
  },
  {
   "cell_type": "markdown",
   "metadata": {},
   "source": [
    "### **1. Bubble Sort**\n",
    "\n",
    "**Scenario:** Sorting a small list of student scores in a classroom.\n",
    "\n",
    "**Problem:** You have a list of student scores: [88, 76, 92, 85, 69], and you need to sort them in ascending order.\n",
    "\n",
    "**Solution:**\n",
    "\n",
    "Bubble Sort iterates through the list, compares adjacent elements, and swaps them if they are in the wrong order. This process repeats until the list is sorted."
   ]
  },
  {
   "cell_type": "code",
   "execution_count": 3,
   "metadata": {},
   "outputs": [
    {
     "name": "stdout",
     "output_type": "stream",
     "text": [
      "Sorted Scores: [69, 76, 85, 88, 92]\n"
     ]
    }
   ],
   "source": [
    "def bubble_sort(arr):\n",
    "    n = len(arr)\n",
    "    for i in range(n):\n",
    "        for j in range(0, n-i-1):\n",
    "            if arr[j] > arr[j+1]:\n",
    "                arr[j], arr[j+1] = arr[j+1], arr[j]\n",
    "    return arr\n",
    "\n",
    "scores = [88, 76, 92, 85, 69]\n",
    "sorted_scores = bubble_sort(scores)\n",
    "print(\"Sorted Scores:\", sorted_scores)"
   ]
  },
  {
   "cell_type": "markdown",
   "metadata": {},
   "source": [
    "### **2. Selection Sort**\n",
    "\n",
    "**Scenario:** Organizing a small inventory of products by price.\n",
    "\n",
    "**Problem:** You have an inventory with product prices: [34.99, 29.99, 45.00, 19.99, 39.99], and you need to sort them in ascending order.\n",
    "\n",
    "**Solution:**\n",
    "\n",
    "Selection Sort repeatedly selects the smallest element from the unsorted portion of the list and swaps it with the first unsorted element."
   ]
  },
  {
   "cell_type": "code",
   "execution_count": 4,
   "metadata": {},
   "outputs": [
    {
     "name": "stdout",
     "output_type": "stream",
     "text": [
      "Sorted Prices: [19.99, 29.99, 34.99, 39.99, 45.0]\n"
     ]
    }
   ],
   "source": [
    "def selection_sort(arr):\n",
    "    for i in range(len(arr)):\n",
    "        min_idx = i\n",
    "        for j in range(i+1, len(arr)):\n",
    "            if arr[j] < arr[min_idx]:\n",
    "                min_idx = j\n",
    "        arr[i], arr[min_idx] = arr[min_idx], arr[i]\n",
    "    return arr\n",
    "\n",
    "prices = [34.99, 29.99, 45.00, 19.99, 39.99]\n",
    "sorted_prices = selection_sort(prices)\n",
    "print(\"Sorted Prices:\", sorted_prices)\n"
   ]
  },
  {
   "cell_type": "markdown",
   "metadata": {},
   "source": [
    "### **3. Insertion Sort**\n",
    "\n",
    "**Scenario:** Arranging names in a small address book.\n",
    "\n",
    "**Problem:** You have a list of names: [\"John\", \"Alice\", \"Bob\", \"Eve\"], and you want to sort them alphabetically.\n",
    "\n",
    "**Solution:**\n",
    "\n",
    "Insertion Sort builds the sorted list one item at a time by repeatedly picking the next item and inserting it into the correct position."
   ]
  },
  {
   "cell_type": "code",
   "execution_count": 5,
   "metadata": {},
   "outputs": [
    {
     "name": "stdout",
     "output_type": "stream",
     "text": [
      "Sorted Names: ['Alice', 'Bob', 'Eve', 'John']\n"
     ]
    }
   ],
   "source": [
    "def insertion_sort(arr):\n",
    "    for i in range(1, len(arr)):\n",
    "        key = arr[i]\n",
    "        j = i-1\n",
    "        while j >= 0 and key < arr[j]:\n",
    "            arr[j + 1] = arr[j]\n",
    "            j -= 1\n",
    "        arr[j + 1] = key\n",
    "    return arr\n",
    "\n",
    "names = [\"John\", \"Alice\", \"Bob\", \"Eve\"]\n",
    "sorted_names = insertion_sort(names)\n",
    "print(\"Sorted Names:\", sorted_names)\n"
   ]
  },
  {
   "cell_type": "markdown",
   "metadata": {},
   "source": [
    "### **4. Merge Sort**\n",
    "\n",
    "**Scenario:** Merging two sorted lists of user IDs.\n",
    "\n",
    "**Problem:** You have two sorted lists of user IDs: [1, 4, 7, 10] and [2, 5, 8, 11], and you need to merge them into a single sorted list.\n",
    "\n",
    "**Solution:**\n",
    "\n",
    "Merge Sort divides the list into smaller sublists, sorts each sublist, and then merges the sorted sublists to produce the final sorted list."
   ]
  },
  {
   "cell_type": "code",
   "execution_count": 11,
   "metadata": {},
   "outputs": [
    {
     "name": "stdout",
     "output_type": "stream",
     "text": [
      "[1, 2, 4, 5, 7, 8, 10, 11]\n"
     ]
    }
   ],
   "source": [
    "def merge_sorted_lists(list1, list2):\n",
    "    merged_list = []\n",
    "    i = j = 0\n",
    "\n",
    "    # Merge smaller elements first\n",
    "    while i < len(list1) and j < len(list2):\n",
    "        if list1[i] < list2[j]:\n",
    "            merged_list.append(list1[i])\n",
    "            i += 1\n",
    "        else:\n",
    "            merged_list.append(list2[j])\n",
    "            j += 1\n",
    "\n",
    "    # If there are remaining elements in list1, append them to the merged list\n",
    "    while i < len(list1):\n",
    "        merged_list.append(list1[i])\n",
    "        i += 1\n",
    "\n",
    "    # If there are remaining elements in list2, append them to the merged list\n",
    "    while j < len(list2):\n",
    "        merged_list.append(list2[j])\n",
    "        j += 1\n",
    "\n",
    "    return merged_list\n",
    "\n",
    "# Test the function\n",
    "list1 = [1, 4, 7, 10]\n",
    "list2 = [2, 5, 8, 11]\n",
    "print(merge_sorted_lists(list1, list2))"
   ]
  },
  {
   "cell_type": "markdown",
   "metadata": {},
   "source": [
    "### **5. Quick Sort**\n",
    "\n",
    "**Scenario:** Sorting a list of products based on their popularity score.\n",
    "\n",
    "**Problem:** You have a list of popularity scores: [7, 2, 1, 6, 8, 5, 3, 4], and you need to sort them in descending order.\n",
    "\n",
    "**Solution:**\n",
    "\n",
    "Quick Sort selects a pivot element, partitions the list into elements less than and greater than the pivot, and recursively sorts the partitions."
   ]
  },
  {
   "cell_type": "code",
   "execution_count": 9,
   "metadata": {},
   "outputs": [
    {
     "name": "stdout",
     "output_type": "stream",
     "text": [
      "Sorted Popularity Scores: [1, 2, 3, 4, 5, 6, 7, 8]\n"
     ]
    }
   ],
   "source": [
    "def quick_sort(arr):\n",
    "    if len(arr) <= 1:\n",
    "        return arr\n",
    "    pivot = arr[len(arr) // 2]\n",
    "    left = [x for x in arr if x < pivot]\n",
    "    middle = [x for x in arr if x == pivot]\n",
    "    right = [x for x in arr if x > pivot]\n",
    "    return quick_sort(left) + middle + quick_sort(right)\n",
    "\n",
    "scores = [7, 2, 1, 6, 8, 5, 3, 4]\n",
    "sorted_scores = quick_sort(scores)\n",
    "print(\"Sorted Popularity Scores:\", sorted_scores)\n"
   ]
  },
  {
   "cell_type": "markdown",
   "metadata": {},
   "source": [
    "### **6. Heap Sort**\n",
    "\n",
    "**Scenario:** Scheduling tasks with different priorities.\n",
    "\n",
    "**Problem:** You have a list of task priorities: [3, 1, 4, 1, 5, 9, 2], and you need to sort them so that the highest priority tasks come first.\n",
    "\n",
    "**Solution:**\n",
    "\n",
    "Heap Sort builds a heap data structure from the list and then repeatedly extracts the maximum element to build the sorted list.\n"
   ]
  },
  {
   "cell_type": "code",
   "execution_count": 8,
   "metadata": {},
   "outputs": [
    {
     "name": "stdout",
     "output_type": "stream",
     "text": [
      "Sorted Priorities: [1, 1, 2, 3, 4, 5, 9]\n"
     ]
    }
   ],
   "source": [
    "import heapq\n",
    "\n",
    "def heap_sort(arr):\n",
    "    heapq.heapify(arr)\n",
    "    sorted_arr = [heapq.heappop(arr) for _ in range(len(arr))]\n",
    "    return sorted_arr\n",
    "\n",
    "priorities = [3, 1, 4, 1, 5, 9, 2]\n",
    "sorted_priorities = heap_sort(priorities)\n",
    "print(\"Sorted Priorities:\", sorted_priorities)\n"
   ]
  },
  {
   "cell_type": "markdown",
   "metadata": {},
   "source": [
    "### **7. Counting Sort**\n",
    "\n",
    "**Scenario:** Counting Sort is suitable for sorting a list of integer exam scores within a known range.\n",
    "\n",
    "**Problem:** You have exam scores ranging from 0 to 100: [88, 76, 92, 85, 69, 100, 55, 90], and you need to sort them.\n",
    "\n",
    "**Solution:**\n",
    "\n",
    "Counting Sort counts the occurrences of each distinct element in the list and uses this information to place elements in the correct position in the sorted list."
   ]
  },
  {
   "cell_type": "code",
   "execution_count": 1,
   "metadata": {},
   "outputs": [
    {
     "name": "stdout",
     "output_type": "stream",
     "text": [
      "Sorted Scores: [55, 69, 76, 85, 88, 90, 92, 100]\n"
     ]
    }
   ],
   "source": [
    "def counting_sort(arr):\n",
    "    max_val = max(arr)\n",
    "    count = [0] * (max_val + 1)\n",
    "\n",
    "    for num in arr:\n",
    "        count[num] += 1\n",
    "\n",
    "    sorted_arr = []\n",
    "    for i, c in enumerate(count):\n",
    "        sorted_arr.extend([i] * c)\n",
    "\n",
    "    return sorted_arr\n",
    "\n",
    "scores = [88, 76, 92, 85, 69, 100, 55, 90]\n",
    "sorted_scores = counting_sort(scores)\n",
    "print(\"Sorted Scores:\", sorted_scores)\n"
   ]
  },
  {
   "cell_type": "markdown",
   "metadata": {},
   "source": [
    "### **8. Radix Sort**\n",
    "\n",
    "**Scenario:** Sorting a list of large numbers such as account balances.\n",
    "\n",
    "**Problem:** You have account balances: [170, 45, 75, 90, 802, 24, 2, 66], and you need to sort them.\n",
    "\n",
    "**Solution:**\n",
    "\n",
    "Radix Sort sorts the numbers based on each digit, starting from the least significant digit to the most significant digit, using a stable counting sort as a subroutine."
   ]
  },
  {
   "cell_type": "code",
   "execution_count": 2,
   "metadata": {},
   "outputs": [
    {
     "name": "stdout",
     "output_type": "stream",
     "text": [
      "Sorted Balances: [2, 24, 45, 66, 75, 90, 170, 802]\n"
     ]
    }
   ],
   "source": [
    "def counting_sort_for_radix(arr, exp):\n",
    "    n = len(arr)\n",
    "    output = [0] * n\n",
    "    count = [0] * 10\n",
    "\n",
    "    for i in range(n):\n",
    "        index = arr[i] // exp\n",
    "        count[index % 10] += 1\n",
    "\n",
    "    for i in range(1, 10):\n",
    "        count[i] += count[i - 1]\n",
    "\n",
    "    i = n - 1\n",
    "    while i >= 0:\n",
    "        index = arr[i] // exp\n",
    "        output[count[index % 10] - 1] = arr[i]\n",
    "        count[index % 10] -= 1\n",
    "        i -= 1\n",
    "\n",
    "    for i in range(n):\n",
    "        arr[i] = output[i]\n",
    "\n",
    "def radix_sort(arr):\n",
    "    max_val = max(arr)\n",
    "    exp = 1\n",
    "    while max_val // exp > 0:\n",
    "        counting_sort_for_radix(arr, exp)\n",
    "        exp *= 10\n",
    "\n",
    "balances = [170, 45, 75, 90, 802, 24, 2, 66]\n",
    "radix_sort(balances)\n",
    "print(\"Sorted Balances:\", balances)\n"
   ]
  },
  {
   "cell_type": "markdown",
   "metadata": {},
   "source": [
    "### **9. Bucket Sort**\n",
    "\n",
    "**Scenario:** Sorting a list of floating-point numbers that are uniformly distributed.\n",
    "\n",
    "**Problem:** You have a list of floating-point numbers between 0 and 1: [0.78, 0.12, 0.34, 0.25, 0.89, 0.45, 0.68], and you need to sort them.\n",
    "\n",
    "**Solution:**\n",
    "\n",
    "Bucket Sort divides the elements into several buckets, sorts each bucket individually (often using another sorting algorithm like Insertion Sort), and then concatenates the sorted buckets."
   ]
  },
  {
   "cell_type": "code",
   "execution_count": 3,
   "metadata": {},
   "outputs": [
    {
     "name": "stdout",
     "output_type": "stream",
     "text": [
      "Sorted Numbers: [0.12, 0.25, 0.34, 0.45, 0.68, 0.78, 0.89]\n"
     ]
    }
   ],
   "source": [
    "def insertion_sort(arr):\n",
    "    for i in range(1, len(arr)):\n",
    "        key = arr[i]\n",
    "        j = i - 1\n",
    "        while j >= 0 and key < arr[j]:\n",
    "            arr[j + 1] = arr[j]\n",
    "            j -= 1\n",
    "        arr[j + 1] = key\n",
    "    return arr\n",
    "\n",
    "def bucket_sort(arr):\n",
    "    bucket_count = len(arr)\n",
    "    buckets = [[] for _ in range(bucket_count)]\n",
    "\n",
    "    for num in arr:\n",
    "        index = int(num * bucket_count)\n",
    "        buckets[index].append(num)\n",
    "\n",
    "    sorted_arr = []\n",
    "    for bucket in buckets:\n",
    "        sorted_arr.extend(insertion_sort(bucket))\n",
    "\n",
    "    return sorted_arr\n",
    "\n",
    "numbers = [0.78, 0.12, 0.34, 0.25, 0.89, 0.45, 0.68]\n",
    "sorted_numbers = bucket_sort(numbers)\n",
    "print(\"Sorted Numbers:\", sorted_numbers)"
   ]
  },
  {
   "cell_type": "code",
   "execution_count": null,
   "metadata": {},
   "outputs": [],
   "source": []
  }
 ],
 "metadata": {
  "kernelspec": {
   "display_name": "ml_env",
   "language": "python",
   "name": "python3"
  },
  "language_info": {
   "codemirror_mode": {
    "name": "ipython",
    "version": 3
   },
   "file_extension": ".py",
   "mimetype": "text/x-python",
   "name": "python",
   "nbconvert_exporter": "python",
   "pygments_lexer": "ipython3",
   "version": "3.11.5"
  }
 },
 "nbformat": 4,
 "nbformat_minor": 2
}
