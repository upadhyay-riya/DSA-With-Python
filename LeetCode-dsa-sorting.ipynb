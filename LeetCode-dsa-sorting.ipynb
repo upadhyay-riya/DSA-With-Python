{
 "cells": [
  {
   "cell_type": "markdown",
   "metadata": {},
   "source": [
    "### **1. Problem: Sort Colors (LeetCode 75)**\n",
    "- **Description:** Given an array `nums` with `n` objects colored red, white, or blue, sort them in-place so that objects of the same color are adjacent, with the colors in the order red, white, and blue."
   ]
  },
  {
   "cell_type": "code",
   "execution_count": 1,
   "metadata": {},
   "outputs": [
    {
     "name": "stdout",
     "output_type": "stream",
     "text": [
      "[0, 0, 1, 1, 2, 2]\n"
     ]
    }
   ],
   "source": [
    "def sortColors(nums):\n",
    "    count = [0] * 3\n",
    "    for num in nums:\n",
    "        count[num] += 1\n",
    "    index = 0\n",
    "    for i in range(3):\n",
    "        for j in range(count[i]):\n",
    "            nums[index] = i\n",
    "            index += 1\n",
    "\n",
    "nums = [2, 0, 2, 1, 1, 0]\n",
    "sortColors(nums)\n",
    "print(nums)\n"
   ]
  },
  {
   "cell_type": "markdown",
   "metadata": {},
   "source": [
    "### **2. Problem: Merge Intervals (LeetCode 56)**\n",
    "- **Description:** Given a collection of intervals, merge all overlapping intervals."
   ]
  },
  {
   "cell_type": "code",
   "execution_count": 2,
   "metadata": {},
   "outputs": [
    {
     "name": "stdout",
     "output_type": "stream",
     "text": [
      "[[1, 6], [8, 10], [15, 18]]\n"
     ]
    }
   ],
   "source": [
    "def merge(intervals):\n",
    "    intervals.sort(key=lambda x: x[0])\n",
    "    merged = []\n",
    "    for interval in intervals:\n",
    "        if not merged or merged[-1][1] < interval[0]:\n",
    "            merged.append(interval)\n",
    "        else:\n",
    "            merged[-1][1] = max(merged[-1][1], interval[1])\n",
    "    return merged\n",
    "\n",
    "intervals = [[1,3], [2,6], [8,10], [15,18]]\n",
    "print(merge(intervals))\n"
   ]
  },
  {
   "cell_type": "markdown",
   "metadata": {},
   "source": [
    "### **3. Problem: Kth Largest Element in an Array (LeetCode 215)**\n",
    "- **Description:** Find the k-th largest element in an unsorted array."
   ]
  },
  {
   "cell_type": "code",
   "execution_count": 4,
   "metadata": {},
   "outputs": [
    {
     "name": "stdout",
     "output_type": "stream",
     "text": [
      "5\n"
     ]
    }
   ],
   "source": [
    "def findKthLargest(nums, k):\n",
    "    nums.sort(reverse=True)\n",
    "    return nums[k-1]\n",
    "\n",
    "nums = [3, 2, 1, 5, 6, 4]\n",
    "k = 2\n",
    "print(findKthLargest(nums, k))"
   ]
  },
  {
   "cell_type": "markdown",
   "metadata": {},
   "source": [
    "### **4. Problem: Largest Number (LeetCode 179)**\n",
    "- **Description:** Given a list of non-negative integers, arrange them such that they form the largest number."
   ]
  },
  {
   "cell_type": "code",
   "execution_count": 5,
   "metadata": {},
   "outputs": [
    {
     "name": "stdout",
     "output_type": "stream",
     "text": [
      "9534330\n"
     ]
    }
   ],
   "source": [
    "from functools import cmp_to_key\n",
    "\n",
    "def largestNumber(nums):\n",
    "    def compare(x, y):\n",
    "        if x + y > y + x:\n",
    "            return -1\n",
    "        elif x + y < y + x:\n",
    "            return 1\n",
    "        else:\n",
    "            return 0\n",
    "\n",
    "    nums = list(map(str, nums))\n",
    "    nums.sort(key=cmp_to_key(compare))\n",
    "    largest_num = ''.join(nums)\n",
    "    return '0' if largest_num[0] == '0' else largest_num\n",
    "\n",
    "nums = [3, 30, 34, 5, 9]\n",
    "print(largestNumber(nums))\n"
   ]
  },
  {
   "cell_type": "markdown",
   "metadata": {},
   "source": [
    "### **5. Problem: Relative Sort Array (LeetCode 1122)**\n",
    "- **Description:** Given two arrays `arr1` and `arr2`, sort the elements of `arr1` such that the relative ordering of items in `arr1` are the same as in `arr2`. Elements that don't appear in `arr2` should be placed at the end of `arr1` in ascending order."
   ]
  },
  {
   "cell_type": "code",
   "execution_count": 6,
   "metadata": {},
   "outputs": [
    {
     "name": "stdout",
     "output_type": "stream",
     "text": [
      "[2, 2, 2, 1, 4, 3, 3, 9, 6, 7, 19]\n"
     ]
    }
   ],
   "source": [
    "def relativeSortArray(arr1, arr2):\n",
    "    count = {num: 0 for num in arr2}\n",
    "    remaining = []\n",
    "    \n",
    "    for num in arr1:\n",
    "        if num in count:\n",
    "            count[num] += 1\n",
    "        else:\n",
    "            remaining.append(num)\n",
    "    \n",
    "    result = []\n",
    "    for num in arr2:\n",
    "        result.extend([num] * count[num])\n",
    "    \n",
    "    result.extend(sorted(remaining))\n",
    "    return result\n",
    "\n",
    "arr1 = [2,3,1,3,2,4,6,7,9,2,19]\n",
    "arr2 = [2,1,4,3,9,6]\n",
    "print(relativeSortArray(arr1, arr2))\n"
   ]
  },
  {
   "cell_type": "markdown",
   "metadata": {},
   "source": [
    "### **6. Problem: Sort List (LeetCode 148)**\n",
    "- **Description:** Sort a linked list in O(n log n) time and O(1) space complexity."
   ]
  },
  {
   "cell_type": "code",
   "execution_count": 7,
   "metadata": {},
   "outputs": [
    {
     "name": "stdout",
     "output_type": "stream",
     "text": [
      "1 -> 2 -> 3 -> 4 -> None\n"
     ]
    }
   ],
   "source": [
    "class ListNode:\n",
    "    def __init__(self, val=0, next=None):\n",
    "        self.val = val\n",
    "        self.next = next\n",
    "\n",
    "def sortList(head):\n",
    "    if not head or not head.next:\n",
    "        return head\n",
    "\n",
    "    def getMid(head):\n",
    "        slow, fast = head, head.next\n",
    "        while fast and fast.next:\n",
    "            slow = slow.next\n",
    "            fast = fast.next.next\n",
    "        return slow\n",
    "\n",
    "    def merge(left, right):\n",
    "        dummy = ListNode()\n",
    "        tail = dummy\n",
    "        while left and right:\n",
    "            if left.val < right.val:\n",
    "                tail.next = left\n",
    "                left = left.next\n",
    "            else:\n",
    "                tail.next = right\n",
    "                right = right.next\n",
    "            tail = tail.next\n",
    "        tail.next = left or right\n",
    "        return dummy.next\n",
    "\n",
    "    mid = getMid(head)\n",
    "    right = sortList(mid.next)\n",
    "    mid.next = None\n",
    "    left = sortList(head)\n",
    "    return merge(left, right)\n",
    "\n",
    "# Example usage\n",
    "def printList(head):\n",
    "    while head:\n",
    "        print(head.val, end=\" -> \")\n",
    "        head = head.next\n",
    "    print(\"None\")\n",
    "\n",
    "head = ListNode(4, ListNode(2, ListNode(1, ListNode(3))))\n",
    "sorted_head = sortList(head)\n",
    "printList(sorted_head)\n"
   ]
  },
  {
   "cell_type": "code",
   "execution_count": null,
   "metadata": {},
   "outputs": [],
   "source": []
  }
 ],
 "metadata": {
  "kernelspec": {
   "display_name": "ml_env",
   "language": "python",
   "name": "python3"
  },
  "language_info": {
   "codemirror_mode": {
    "name": "ipython",
    "version": 3
   },
   "file_extension": ".py",
   "mimetype": "text/x-python",
   "name": "python",
   "nbconvert_exporter": "python",
   "pygments_lexer": "ipython3",
   "version": "3.11.5"
  }
 },
 "nbformat": 4,
 "nbformat_minor": 2
}
